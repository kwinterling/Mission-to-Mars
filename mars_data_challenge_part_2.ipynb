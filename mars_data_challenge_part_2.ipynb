{
 "cells": [
  {
   "cell_type": "code",
   "execution_count": 1,
   "id": "9a7981eb-03a9-4673-b3fc-72727a655835",
   "metadata": {},
   "outputs": [],
   "source": [
    "from splinter import Browser\n",
    "from bs4 import BeautifulSoup as soup\n",
    "from webdriver_manager.chrome import ChromeDriverManager\n",
    "import json\n",
    "import numpy as np\n",
    "import pandas as pd\n",
    "\n",
    "# Set up Splinter\n",
    "executable_path = {'executable_path': ChromeDriverManager().install()}\n",
    "browser = Browser('chrome', **executable_path, headless=False)\n",
    "\n",
    "\n",
    "url = \"https://data-class-mars-challenge.s3.amazonaws.com/Mars/index.html\"\n",
    "browser.visit(url)\n",
    "\n",
    "# Parse the HTML\n",
    "html = browser.html\n",
    "html_soup = soup(html, 'html.parser')\n",
    "heads = list(html_soup.find(\"tr\"))\n",
    "rows = html_soup.find_all(\"tr\", class_=\"data-row\")\n",
    "\n",
    "browser.quit()\n",
    "\n",
    "while '\\n' in heads:\n",
    "    heads.remove('\\n')\n",
    "\n",
    "heads = list(map(lambda heading: heading.text, heads))\n",
    "mars_data = []\n",
    "for row in rows:\n",
    "    row_list = list(row)\n",
    "    row_dict = {}\n",
    "    \n",
    "    while '\\n' in row_list:\n",
    "        row_list.remove('\\n')\n",
    "    \n",
    "    row_list = list(map(lambda datum: datum.text.strip(), row_list))\n",
    "    mars_data.append([int(row_list[0]),\n",
    "                      row_list[1],\n",
    "                      int(row_list[2]),\n",
    "                      int(row_list[3]),\n",
    "                      int(row_list[4]),\n",
    "                      float(row_list[5]),\n",
    "                      float(row_list[6])])\n",
    "\n",
    "mars_df = pd.DataFrame(mars_data, columns=heads)\n",
    "mars_df.to_csv(\"mars_weather.csv\", index=None)"
   ]
  },
  {
   "cell_type": "code",
   "execution_count": 2,
   "id": "2897d667-3ab7-49c2-89e9-5413c5a84536",
   "metadata": {},
   "outputs": [],
   "source": [
    "import pandas as pd\n",
    "import datetime\n",
    "\n",
    "mars_df = pd.read_csv(\"mars_weather.csv\")"
   ]
  },
  {
   "cell_type": "code",
   "execution_count": 3,
   "id": "d5d35d8b-592f-4ebc-8948-7c924fbdf4bd",
   "metadata": {},
   "outputs": [
    {
     "data": {
      "text/html": [
       "<div>\n",
       "<style scoped>\n",
       "    .dataframe tbody tr th:only-of-type {\n",
       "        vertical-align: middle;\n",
       "    }\n",
       "\n",
       "    .dataframe tbody tr th {\n",
       "        vertical-align: top;\n",
       "    }\n",
       "\n",
       "    .dataframe thead th {\n",
       "        text-align: right;\n",
       "    }\n",
       "</style>\n",
       "<table border=\"1\" class=\"dataframe\">\n",
       "  <thead>\n",
       "    <tr style=\"text-align: right;\">\n",
       "      <th></th>\n",
       "      <th>id</th>\n",
       "      <th>terrestrial_date</th>\n",
       "      <th>sol</th>\n",
       "      <th>ls</th>\n",
       "      <th>month</th>\n",
       "      <th>min_temp</th>\n",
       "      <th>pressure</th>\n",
       "    </tr>\n",
       "  </thead>\n",
       "  <tbody>\n",
       "    <tr>\n",
       "      <th>0</th>\n",
       "      <td>2</td>\n",
       "      <td>2012-08-16</td>\n",
       "      <td>10</td>\n",
       "      <td>155</td>\n",
       "      <td>6</td>\n",
       "      <td>-75.0</td>\n",
       "      <td>739.0</td>\n",
       "    </tr>\n",
       "    <tr>\n",
       "      <th>1</th>\n",
       "      <td>13</td>\n",
       "      <td>2012-08-17</td>\n",
       "      <td>11</td>\n",
       "      <td>156</td>\n",
       "      <td>6</td>\n",
       "      <td>-76.0</td>\n",
       "      <td>740.0</td>\n",
       "    </tr>\n",
       "    <tr>\n",
       "      <th>2</th>\n",
       "      <td>24</td>\n",
       "      <td>2012-08-18</td>\n",
       "      <td>12</td>\n",
       "      <td>156</td>\n",
       "      <td>6</td>\n",
       "      <td>-76.0</td>\n",
       "      <td>741.0</td>\n",
       "    </tr>\n",
       "    <tr>\n",
       "      <th>3</th>\n",
       "      <td>35</td>\n",
       "      <td>2012-08-19</td>\n",
       "      <td>13</td>\n",
       "      <td>157</td>\n",
       "      <td>6</td>\n",
       "      <td>-74.0</td>\n",
       "      <td>732.0</td>\n",
       "    </tr>\n",
       "    <tr>\n",
       "      <th>4</th>\n",
       "      <td>46</td>\n",
       "      <td>2012-08-20</td>\n",
       "      <td>14</td>\n",
       "      <td>157</td>\n",
       "      <td>6</td>\n",
       "      <td>-74.0</td>\n",
       "      <td>740.0</td>\n",
       "    </tr>\n",
       "  </tbody>\n",
       "</table>\n",
       "</div>"
      ],
      "text/plain": [
       "   id terrestrial_date  sol   ls  month  min_temp  pressure\n",
       "0   2       2012-08-16   10  155      6     -75.0     739.0\n",
       "1  13       2012-08-17   11  156      6     -76.0     740.0\n",
       "2  24       2012-08-18   12  156      6     -76.0     741.0\n",
       "3  35       2012-08-19   13  157      6     -74.0     732.0\n",
       "4  46       2012-08-20   14  157      6     -74.0     740.0"
      ]
     },
     "execution_count": 3,
     "metadata": {},
     "output_type": "execute_result"
    }
   ],
   "source": [
    "mars_df.head()"
   ]
  },
  {
   "cell_type": "code",
   "execution_count": 4,
   "id": "0621797b-bf50-4b5a-a433-b2d17db35c2e",
   "metadata": {},
   "outputs": [
    {
     "data": {
      "text/plain": [
       "id                    int64\n",
       "terrestrial_date     object\n",
       "sol                   int64\n",
       "ls                    int64\n",
       "month                 int64\n",
       "min_temp            float64\n",
       "pressure            float64\n",
       "dtype: object"
      ]
     },
     "execution_count": 4,
     "metadata": {},
     "output_type": "execute_result"
    }
   ],
   "source": [
    "# 5. Datetime conversion\n",
    "mars_df.dtypes"
   ]
  },
  {
   "cell_type": "code",
   "execution_count": 5,
   "id": "d8fe8160-113d-44d7-9bec-afe9afa6b46f",
   "metadata": {},
   "outputs": [
    {
     "data": {
      "text/plain": [
       "id                           int64\n",
       "terrestrial_date    datetime64[ns]\n",
       "sol                          int64\n",
       "ls                           int64\n",
       "month                        int64\n",
       "min_temp                   float64\n",
       "pressure                   float64\n",
       "dtype: object"
      ]
     },
     "execution_count": 5,
     "metadata": {},
     "output_type": "execute_result"
    }
   ],
   "source": [
    "mars_df[\"terrestrial_date\"] = pd.to_datetime(mars_df[\"terrestrial_date\"])\n",
    "mars_df.dtypes"
   ]
  },
  {
   "cell_type": "code",
   "execution_count": 6,
   "id": "04073d09-b35c-42ca-842d-b5928eb2e8c9",
   "metadata": {},
   "outputs": [
    {
     "data": {
      "text/plain": [
       "12"
      ]
     },
     "execution_count": 6,
     "metadata": {},
     "output_type": "execute_result"
    }
   ],
   "source": [
    "# 6. Number of months on Mars\n",
    "mars_df[\"month\"].max()"
   ]
  },
  {
   "cell_type": "markdown",
   "id": "c3ee7f20-7ee2-49eb-b13f-c119b5707d8c",
   "metadata": {},
   "source": [
    "There are 12 months on Mars."
   ]
  },
  {
   "cell_type": "code",
   "execution_count": 7,
   "id": "a693d988-b413-4cec-bc02-7d4e300a77c9",
   "metadata": {},
   "outputs": [
    {
     "data": {
      "text/plain": [
       "1967"
      ]
     },
     "execution_count": 7,
     "metadata": {},
     "output_type": "execute_result"
    }
   ],
   "source": [
    "# 7. How many Martian days of data?\n",
    "martian_days = mars_df[\"sol\"].max() - mars_df[\"sol\"].min()\n",
    "martian_days"
   ]
  },
  {
   "cell_type": "code",
   "execution_count": 8,
   "id": "ad011942-9515-4410-9eea-7037481d3b51",
   "metadata": {},
   "outputs": [
    {
     "data": {
      "text/plain": [
       "month\n",
       "1    -77.160920\n",
       "2    -79.932584\n",
       "3    -83.307292\n",
       "4    -82.747423\n",
       "5    -79.308725\n",
       "6    -75.299320\n",
       "7    -72.281690\n",
       "8    -68.382979\n",
       "9    -69.171642\n",
       "10   -71.982143\n",
       "11   -71.985507\n",
       "12   -74.451807\n",
       "Name: min_temp, dtype: float64"
      ]
     },
     "execution_count": 8,
     "metadata": {},
     "output_type": "execute_result"
    }
   ],
   "source": [
    "# 8. What are the coldest and the warmest months on Mars (at the location of Curiosity)? Get the answer by averaging the minimum daily temperature of all the months. Plot the results as a bar chart.\n",
    "\n",
    "temps = mars_df.groupby(\"month\")[\"min_temp\"].mean()\n",
    "temps"
   ]
  },
  {
   "cell_type": "code",
   "execution_count": 9,
   "id": "0d2d0e72-9d50-4f1c-ac51-98127e757d51",
   "metadata": {},
   "outputs": [
    {
     "data": {
      "text/plain": [
       "<AxesSubplot:xlabel='month'>"
      ]
     },
     "execution_count": 9,
     "metadata": {},
     "output_type": "execute_result"
    },
    {
     "data": {
      "image/png": "[encoded data removed]",
      "text/plain": [
       "<Figure size 640x480 with 1 Axes>"
      ]
     },
     "metadata": {},
     "output_type": "display_data"
    }
   ],
   "source": [
    "%matplotlib inline\n",
    "import matplotlib.pyplot as plt\n",
    "temps.plot.bar(x=\"Month\", y=\"Minimum Temperature\", rot=0)"
   ]
  },
  {
   "cell_type": "markdown",
   "id": "0e680bc7-9a00-4a1c-9d45-7425c0a4714d",
   "metadata": {},
   "source": [
    "The coldest month is month 4 and the warmest month is month 8."
   ]
  },
  {
   "cell_type": "code",
   "execution_count": 10,
   "id": "5517e5cd-ffb0-46b5-92f5-b097c0cbceba",
   "metadata": {},
   "outputs": [
    {
     "data": {
      "text/plain": [
       "month\n",
       "1     862.488506\n",
       "2     889.455056\n",
       "3     877.322917\n",
       "4     806.329897\n",
       "5     748.557047\n",
       "6     745.054422\n",
       "7     795.105634\n",
       "8     873.829787\n",
       "9     913.305970\n",
       "10    887.312500\n",
       "11    857.014493\n",
       "12    842.156627\n",
       "Name: pressure, dtype: float64"
      ]
     },
     "execution_count": 10,
     "metadata": {},
     "output_type": "execute_result"
    }
   ],
   "source": [
    "# 9. Answer the following question: Which months have the lowest and the highest atmospheric pressure on Mars? Get the answer by averaging the daily atmospheric pressure of all the months. Plot the results as a bar chart.\n",
    "pressures = mars_df.groupby(\"month\")[\"pressure\"].mean()\n",
    "pressures"
   ]
  },
  {
   "cell_type": "code",
   "execution_count": 11,
   "id": "bd6101f2-6f2e-404f-8253-487a3dd9cd0a",
   "metadata": {},
   "outputs": [
    {
     "data": {
      "text/plain": [
       "<AxesSubplot:xlabel='month'>"
      ]
     },
     "execution_count": 11,
     "metadata": {},
     "output_type": "execute_result"
    },
    {
     "data": {
      "image/png": "[encoded data removed]",
      "text/plain": [
       "<Figure size 640x480 with 1 Axes>"
      ]
     },
     "metadata": {},
     "output_type": "display_data"
    }
   ],
   "source": [
    "pressures.plot.bar(x=\"Month\", y=\"Pressure\", rot=0)"
   ]
  },
  {
   "cell_type": "markdown",
   "id": "7aae3448-8d4c-4f8f-b6c9-3bf900e0e603",
   "metadata": {},
   "source": [
    "Month 6 has the lowest atmospheric pressure and month 9 has the highest."
   ]
  },
  {
   "cell_type": "code",
   "execution_count": 12,
   "id": "30e079de-c375-4001-a7ef-d04f16da8565",
   "metadata": {},
   "outputs": [
    {
     "data": {
      "text/plain": [
       "<AxesSubplot:>"
      ]
     },
     "execution_count": 12,
     "metadata": {},
     "output_type": "execute_result"
    },
    {
     "data": {
      "image/png": "[encoded data removed]",
      "text/plain": [
       "<Figure size 640x480 with 1 Axes>"
      ]
     },
     "metadata": {},
     "output_type": "display_data"
    }
   ],
   "source": [
    "# 10. Answer the following question: About how many terrestrial (Earth) days exist in a Martian year? That is, in the time that Mars circles the Sun once, how many days elapse on Earth? Visually estimate the result by plotting the daily minimum temperature.\n",
    "mars_df[\"min_temp\"].plot()"
   ]
  },
  {
   "cell_type": "markdown",
   "id": "fdf6a23a-2dfc-4874-bce7-5d117ef7bc71",
   "metadata": {},
   "source": [
    "According to [NASA](https://mars.nasa.gov/resources/21392/mars-in-a-minute-how-long-is-a-year-on-mars/), one Mars year is about 687 Earth days, which approximately corresponds with the period of the graph that looks like it is around 700 Earth days."
   ]
  },
  {
   "cell_type": "code",
   "execution_count": 13,
   "id": "dfce3f64-731d-41c7-9b0e-c92eedf484f1",
   "metadata": {},
   "outputs": [],
   "source": [
    "# 10. DataFrame already exported to CSV, see above."
   ]
  }
 ],
 "metadata": {
  "kernelspec": {
   "display_name": "PythonData",
   "language": "python",
   "name": "pythondata"
  },
  "language_info": {
   "codemirror_mode": {
    "name": "ipython",
    "version": 3
   },
   "file_extension": ".py",
   "mimetype": "text/x-python",
   "name": "python",
   "nbconvert_exporter": "python",
   "pygments_lexer": "ipython3",
   "version": "3.7.13"
  }
 },
 "nbformat": 4,
 "nbformat_minor": 5
}
