{
 "cells": [
  {
   "cell_type": "code",
   "execution_count": 1,
   "id": "7eed063e-e705-4f36-9e8a-4f50766a8372",
   "metadata": {},
   "outputs": [],
   "source": [
    "from splinter import Browser\n",
    "from bs4 import BeautifulSoup as soup\n",
    "from webdriver_manager.chrome import ChromeDriverManager\n",
    "import json\n",
    "\n",
    "# Set up Splinter\n",
    "executable_path = {'executable_path': ChromeDriverManager().install()}\n",
    "browser = Browser('chrome', **executable_path, headless=False)\n",
    "\n",
    "\n",
    "url = \"https://redplanetscience.com/\"\n",
    "browser.visit(url)\n",
    "\n",
    "# Parse the HTML\n",
    "html = browser.html\n",
    "html_soup = soup(html, 'html.parser')\n",
    "\n",
    "# Scrape title\n",
    "titles = list(html_soup.find_all('div', class_='content_title'))\n",
    "previews = list(html_soup.find_all('div', class_='article_teaser_body'))\n",
    "\n",
    "json_dicts = []\n",
    "\n",
    "for i in range(len(titles)):\n",
    "    json_dicts.append({'title': titles[i].text, 'preview': previews[i].text})\n",
    "\n",
    "browser.quit()\n",
    "json_output = json.dumps(json_dicts, indent=4)\n",
    "\n",
    "with open(\"titles_previews.json\", \"w\") as fl:\n",
    "    fl.write(json_output)"
   ]
  },
  {
   "cell_type": "code",
   "execution_count": null,
   "id": "12e6bed7-e1b9-47d7-aeac-b51d8f6e4c6a",
   "metadata": {},
   "outputs": [],
   "source": []
  }
 ],
 "metadata": {
  "kernelspec": {
   "display_name": "PythonData",
   "language": "python",
   "name": "pythondata"
  },
  "language_info": {
   "codemirror_mode": {
    "name": "ipython",
    "version": 3
   },
   "file_extension": ".py",
   "mimetype": "text/x-python",
   "name": "python",
   "nbconvert_exporter": "python",
   "pygments_lexer": "ipython3",
   "version": "3.7.13"
  }
 },
 "nbformat": 4,
 "nbformat_minor": 5
}
